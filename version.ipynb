{
 "cells": [
  {
   "cell_type": "code",
   "execution_count": 1,
   "metadata": {},
   "outputs": [
    {
     "name": "stdout",
     "output_type": "stream",
     "text": [
      "Python version:\n",
      "Python 3.7.0\n",
      "Jupyter notebook version:\n",
      "6.4.12\n",
      "Ohter libraries\n",
      "SymPy version: 1.10.1\n",
      "NumPy version: 1.21.6\n",
      "Matplotlib version: 3.5.3\n",
      "Scipy version: 1.7.3\n"
     ]
    }
   ],
   "source": [
    "print(\"Python version:\")\n",
    "!python -V\n",
    "\n",
    "print(\"Jupyter notebook version:\")\n",
    "!jupyter notebook --version\n",
    "\n",
    "print(\"Ohter libraries\")\n",
    "\n",
    "import sympy\n",
    "print(\"SymPy version: {}\".format(sympy.__version__))\n",
    "\n",
    "import numpy\n",
    "print(\"NumPy version: {}\".format(numpy.__version__))\n",
    "\n",
    "import matplotlib\n",
    "print(\"Matplotlib version: {}\".format(matplotlib.__version__))\n",
    "\n",
    "import scipy\n",
    "print(\"Scipy version: {}\".format(scipy.__version__))"
   ]
  },
  {
   "cell_type": "code",
   "execution_count": null,
   "metadata": {},
   "outputs": [],
   "source": []
  }
 ],
 "metadata": {
  "interpreter": {
   "hash": "1ffc948ab769cfa4cc4757e26199a35fdd6ab5f8b5665b37d3c13b7918f14453"
  },
  "kernelspec": {
   "display_name": "Python 3 (ipykernel)",
   "language": "python",
   "name": "python3"
  },
  "language_info": {
   "codemirror_mode": {
    "name": "ipython",
    "version": 3
   },
   "file_extension": ".py",
   "mimetype": "text/x-python",
   "name": "python",
   "nbconvert_exporter": "python",
   "pygments_lexer": "ipython3",
   "version": "3.7.0"
  }
 },
 "nbformat": 4,
 "nbformat_minor": 2
}
